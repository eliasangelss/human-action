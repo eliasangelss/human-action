{
 "cells": [
  {
   "cell_type": "code",
   "execution_count": 2,
   "id": "bae50258",
   "metadata": {},
   "outputs": [],
   "source": [
    "import os # operating system\n",
    "import pandas as pd\n",
    "import shutil # shell utilities\n",
    "import tensorflow as tf\n",
    "from PIL import Image\n",
    "import matplotlib.pyplot as plt\n",
    "from tensorflow.keras.utils import image_dataset_from_directory\n",
    "import seaborn as sns\n",
    "import plotly.express as px"
   ]
  },
  {
   "cell_type": "markdown",
   "id": "00c7936d",
   "metadata": {},
   "source": [
    "notes for me; there are two ways that we can use pretrained models to make things easier\n",
    "\n",
    "* feature extraction, which freezes the pretrained layers and adds a new classification layer at the end\n",
    "    this method is fast and simple, and works well with small-medium datasets\n",
    "\n",
    "* fine-tuning, which unfreezes some of the top layers so they can update their understanding of the data\n",
    "    this method takes takes more time and is more advanced, but usually leads to better performance"
   ]
  },
  {
   "cell_type": "code",
   "execution_count": 3,
   "id": "97e032dc",
   "metadata": {},
   "outputs": [
    {
     "name": "stdout",
     "output_type": "stream",
     "text": [
      "Preview of the dataset:\n",
      "      filename         label\n",
      "0  Image_1.jpg       sitting\n",
      "1  Image_2.jpg  using_laptop\n",
      "2  Image_3.jpg       hugging\n",
      "3  Image_4.jpg      sleeping\n",
      "4  Image_5.jpg  using_laptop\n"
     ]
    }
   ],
   "source": [
    "csvPath = 'harData/Training_set.csv'\n",
    "df = pd.read_csv(csvPath)\n",
    "\n",
    "print(\"Preview of the dataset:\")\n",
    "print(df.head())"
   ]
  }
 ],
 "metadata": {
  "kernelspec": {
   "display_name": "Python 3",
   "language": "python",
   "name": "python3"
  },
  "language_info": {
   "codemirror_mode": {
    "name": "ipython",
    "version": 3
   },
   "file_extension": ".py",
   "mimetype": "text/x-python",
   "name": "python",
   "nbconvert_exporter": "python",
   "pygments_lexer": "ipython3",
   "version": "3.12.4"
  }
 },
 "nbformat": 4,
 "nbformat_minor": 5
}
